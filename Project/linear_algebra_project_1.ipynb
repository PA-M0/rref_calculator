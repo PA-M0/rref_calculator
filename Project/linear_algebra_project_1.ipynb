{
 "cells": [
  {
   "cell_type": "markdown",
   "id": "14e7b07e",
   "metadata": {},
   "source": [
    "<img src=\"photos/amirkabir-uni-logo.jpg\" style=\"margin-left:auto; margin-right:auto\"/>\n",
    "<img src=\"photos/ce-logo.png\" style=\"margin-left:auto; margin-right:auto\"/>"
   ]
  },
  {
   "cell_type": "markdown",
   "id": "a7240339",
   "metadata": {},
   "source": [
    "<div style=\"font-size: 30px\"> <center> Linear Algebra </center></div>\n",
    "<center> fall 2023 </center>\n",
    "<center> Instructor: </center>\n",
    "<center> Dr.Ehsan Nazerfard </center> <br>\n",
    "<center> TAs: </center>\n",
    "<center> Sara Rouhani, \n",
    "Amir Hossein Poulad, \n",
    "Mohammad Heydari Rad, \n",
    "Asal Delkhosh, \n",
    "Mohammad Hossein Aref, \n",
    "Amir Mohammad Jafari, \n",
    "Samin Mahdi Pour, \n",
    "Mohammad Eshrat Abadi </center>"
   ]
  },
  {
   "cell_type": "markdown",
   "id": "3d1ce6d0",
   "metadata": {},
   "source": [
    "#### <div style=\"text-align: center; color: #888888; font-size: 30px\">پروژه اول درس جبر خطی کاربردی</div>\n",
    "#### <div style=\"text-align: center; color: #888888\">محاسبه جریان گذرنده از مدار های الکتریکی</div>"
   ]
  },
  {
   "cell_type": "markdown",
   "id": "eb58754d",
   "metadata": {},
   "source": [
    "<div style=\"text-align: right\">\n",
    "در این پروژه قصد داریم به وسیله جبر خطی و قوانینی که در درس مدار های الکتریکی یاد گرفته ایم، جریان گذرنده از سیم های مدار زیر را محاسبه کنیم\n",
    "<br/><br/>\n",
    "تصویر زیر را مشاهده میکنید\n",
    "<br/>\n",
    "این تصویر نشان دهنده بخشی از یک مدار است، جهت جریان هر سیم با یک پیکان روی آن مشخص شده و برای بعضی از آن ها میزان جریان نیز به میلی آمپر نوشته شده است\n",
    "<br/>\n",
    "</div>"
   ]
  },
  {
   "cell_type": "markdown",
   "id": "09e25298",
   "metadata": {},
   "source": [
    "<img src=\"photos/flow.png\" style=\"margin-left:auto; margin-right:auto\"/>"
   ]
  },
  {
   "cell_type": "markdown",
   "id": "1ca35987",
   "metadata": {},
   "source": [
    "<div style=\"text-align: right\">\n",
    "هدف ما این است که جریان های مجهول این بخش از مدار را پیدا کنیم\n",
    "</div>"
   ]
  },
  {
   "cell_type": "markdown",
   "id": "214e8b65",
   "metadata": {},
   "source": [
    "<div style=\"text-align: right\">\n",
    "از درس مدار های الکتریکی میدانیم که مجموع جریان های ورودی به هر گره مدار صفر است\n",
    "<br/>\n",
    "گره های مدار همان نقاط زیر هستند:\n",
    "<br/>\n",
    "A, B, C, D\n",
    "</div>"
   ]
  },
  {
   "cell_type": "markdown",
   "id": "04a5914f",
   "metadata": {},
   "source": [
    "<div style=\"text-align: right\">\n",
    "برای گره های نام برده شده این قانون را اعمال میکنیم\n",
    "</div>"
   ]
  },
  {
   "cell_type": "markdown",
   "id": "534d8222",
   "metadata": {},
   "source": [
    "<div>\n",
    "A:\n",
    "<br/>\n",
    "x1 + x2 = 800\n",
    "<br/>\n",
    "B:\n",
    "<br/>\n",
    "x2 - x3 + x4 = 300\n",
    "<br/>\n",
    "C:\n",
    "<br/>\n",
    "x4 + x5 = 500\n",
    "<br/>\n",
    "D:\n",
    "<br/>\n",
    "x1 + x5 = 600\n",
    "</div>"
   ]
  },
  {
   "cell_type": "markdown",
   "id": "5dd52577",
   "metadata": {},
   "source": [
    "<div style=\"text-align: right\">\n",
    "ماتریس افزوده معادلات به دست آمده را مینویسیم\n",
    "</div>"
   ]
  },
  {
   "cell_type": "markdown",
   "id": "82aa5419",
   "metadata": {},
   "source": [
    "1, 1, 0, 0, 0, 800\n",
    "<br/>\n",
    "0, 1, -1, 1, 0, 300\n",
    "<br/>\n",
    "0, 0, 0, 1, 1, 500\n",
    "<br/>\n",
    "1, 0, 0, 0, 1, 600"
   ]
  },
  {
   "cell_type": "markdown",
   "id": "95feb0d2",
   "metadata": {},
   "source": [
    "<div style=\"text-align: right\">\n",
    "برای حل این مسئله، میخواهیم تابعی بنویسیم که یک ماتریس افزوده میگیرد و به فرم ماتریس نردبانی کاهش یافته در می آورد\n",
    "</div>"
   ]
  },
  {
   "cell_type": "markdown",
   "id": "2878a912",
   "metadata": {},
   "source": [
    "<div style=\"text-align: right\">\n",
    "در درس جبر خطی دیده ایم که برای تبدیل یک ماتریس به فرم نردبانی کاهش یافته آن باید مراحل زیر را انجام دهیم\n",
    "<br/>\n",
    "قدم اول\n",
    "<br/>\n",
    "با جا به جایی سطر ها، کاری میکنیم که چپ ترین مدخل غیر صفر هر سطری، در زیر یا سمت راست چپ ترین مدخل غیر صفر هر سطر بالایی اش قرار بگیرد\n",
    "<br/>\n",
    "قدم دوم\n",
    "<br/>\n",
    "چپ ترین مدخل غیر صفر بالا ترین سطری که برایش شاخص در نظر نگرفته ایم را به عنوان شاخص در نظر میگیریم\n",
    "<br/>\n",
    "تمام سطر هایی که زیر این شاخص مقداری غیر صفر دارند را منهای ضریبی از سطر اول میکنیم که برابر حاصل تقسیم شاخص بر چپ ترین مدخل غیر صفر آن سطر است\n",
    "<br/>\n",
    "و اگر فرم بالا مثلثی به هم خورد به قدم اول میرویم\n",
    "<br/>\n",
    "قدم سوم\n",
    "<br/>\n",
    "تمامی سطر های دارای شاخص را بر مقدار شاخصشان تقسیم میکنیم\n",
    "<br/>\n",
    "قدم چهارم\n",
    "<br/>\n",
    "هر سطری که بالا سر شاخصی مدخلی غیر صفر دارد را منهای حاصل ضرب آن مدخل در سطر آن شاخص میکنیم تا مدخل های بالای هر شاخص صفر بشود\n",
    "</div>"
   ]
  },
  {
   "cell_type": "markdown",
   "id": "3b9d2e8e",
   "metadata": {},
   "source": [
    "<div style=\"text-align: right; color: red\">\n",
    "توجه: شما باید کدی بنویسید که هر ماتریس افزوده ای را به فرم نردبانی کاهش یافته ببرد، نه صرفا ماتریس افزوده این مدار الکتریکی، و باید بتوان ماتریس افزوده را به آن ورودی داد و خروجی را مشاهده کرد\n",
    "</div>"
   ]
  },
  {
   "cell_type": "markdown",
   "id": "26be5892",
   "metadata": {},
   "source": [
    "<div style=\"text-align: right; color: red\">\n",
    "توجه: اصراری بر استفاده از کد های  زیر نیست، میتوانید آنطور که میخواهید آن ها را تغییر دهید، توابع جدید اضافه کنید یا حذفشان کنید و کد های خود را بنویسید، صرفا باید در نهایت تابعی داشته باشید که بتوان به آن ماتریس افزوده داد و آن به فرم ماتریس نردبانی کاهش یافته در بیاورد و نمایش دهد\n",
    "</div>"
   ]
  },
  {
   "cell_type": "markdown",
   "id": "3e1ad577",
   "metadata": {},
   "source": [
    "<div style=\"text-align: right; color: red\">\n",
    "توجه: لطفا کد ها را تا حد امکان کامنت گذاری کنید و توضیح دهید\n",
    "</div>"
   ]
  },
  {
   "cell_type": "markdown",
   "id": "e69ff7b0",
   "metadata": {},
   "source": [
    "<div style=\"text-align: right; color: green\">\n",
    "درc صورت وجود هرگونه ابهام، از طریق ایمیل تدریسیاری سوال خود را بپرسید</br>\n",
    "linearalgebra.fall1401@gmail.com</div>"
   ]
  },
  {
   "cell_type": "markdown",
   "id": "2879b814",
   "metadata": {},
   "source": [
    "<div style=\"text-align: right; color: green\">\n",
    "پاسخ خود را در قالب فایلی با نام زیر آپلود کنید</br>\n",
    "P1_Name_StudentNumber.ipynb</div>"
   ]
  },
  {
   "cell_type": "code",
   "execution_count": 10,
   "id": "fe0b8846",
   "metadata": {},
   "outputs": [
    {
     "name": "stdout",
     "output_type": "stream",
     "text": [
      "/usr/bin/zsh: /home/mohammad/miniconda3/lib/libtinfo.so.6: no version information available (required by /usr/bin/zsh)\n",
      "Looking in indexes: https://pypi.org/simple, https://pypi.ngc.nvidia.com\n",
      "Requirement already satisfied: numpy in ./venv/lib/python3.11/site-packages (1.26.0)\n"
     ]
    }
   ],
   "source": [
    "! pip install numpy"
   ]
  },
  {
   "cell_type": "code",
   "execution_count": 11,
   "id": "a38413e6",
   "metadata": {},
   "outputs": [],
   "source": [
    "import numpy as np"
   ]
  },
  {
   "cell_type": "markdown",
   "id": "1fc66f4b",
   "metadata": {},
   "source": [
    "<div style=\"text-align: right\">\n",
    "برای این کار در ابتدا باید توابعی را پیاده سازی کنیم که عملیات کاهش سطری را انجام میدهند\n",
    "</div>"
   ]
  },
  {
   "cell_type": "markdown",
   "id": "cd8b33f8",
   "metadata": {},
   "source": [
    "<div style=\"text-align: right\">\n",
    "جا به جایی دو سطر\n",
    "<br/>\n",
    "این تابع یک ماتریس و اندیس دو سطر را میگیرد و آن دو سطر را در آن ماتریس جا به جا میکند\n",
    "</div>"
   ]
  },
  {
   "cell_type": "code",
   "execution_count": 12,
   "id": "d21e8775",
   "metadata": {},
   "outputs": [],
   "source": [
    "def interchange(matrix, first_row_index, second_row_index):\n",
    "    pass"
   ]
  },
  {
   "cell_type": "markdown",
   "id": "f329a4a5",
   "metadata": {},
   "source": [
    "<div style=\"text-align: right\">\n",
    "ضرب سطر در یک عدد\n",
    "<br/>\n",
    "این تابع یک ماتریس و اندیس سطر و یک عدد میگیرد و تمام درایه های آن سطر را در آن عدد ضرب میکند\n",
    "</div>"
   ]
  },
  {
   "cell_type": "code",
   "execution_count": 13,
   "id": "77a7efb7",
   "metadata": {},
   "outputs": [],
   "source": [
    "def scale(matrix, row_index, scalar):\n",
    "    pass"
   ]
  },
  {
   "cell_type": "markdown",
   "id": "33e71a6a",
   "metadata": {},
   "source": [
    "<div style=\"text-align: right\">\n",
    "جمع یک سطر با ضریبی اس سطر دیگر\n",
    "<br/>\n",
    "این تابع یک ماتریس و اندیس دو سطر و یک عدد را میگیرد و حاصل ضرب دومی در عدد را با سطر اول جمع میکند و به جای سطر اول میگذارد\n",
    "</div>"
   ]
  },
  {
   "cell_type": "code",
   "execution_count": 9,
   "id": "139a6526",
   "metadata": {},
   "outputs": [],
   "source": [
    "def replace(matrix, first_row_index, second_row_index, scalar):\n",
    "    pass"
   ]
  },
  {
   "cell_type": "markdown",
   "id": "09883e51",
   "metadata": {},
   "source": [
    "<div style=\"text-align: right\">\n",
    "قدم اول\n",
    "</div>"
   ]
  },
  {
   "cell_type": "code",
   "execution_count": 24,
   "id": "1f6dcbd2",
   "metadata": {},
   "outputs": [],
   "source": [
    "def upper_triangle_form(matrix):\n",
    "    pass"
   ]
  },
  {
   "cell_type": "markdown",
   "id": "fa7caf9f",
   "metadata": {},
   "source": [
    "<div style=\"text-align: right\">\n",
    "قدم دوم\n",
    "</div>"
   ]
  },
  {
   "cell_type": "code",
   "execution_count": 17,
   "id": "ff8695eb",
   "metadata": {},
   "outputs": [],
   "source": [
    "def find_pivot(matrix, uppest_pivotless_row_index):\n",
    "    pass"
   ]
  },
  {
   "cell_type": "code",
   "execution_count": 21,
   "id": "aa7a9c43",
   "metadata": {},
   "outputs": [],
   "source": [
    "def subtract_scaled_pivot_row_from_rows_below(matrix, pivot_row, pivot_column):\n",
    "    pass"
   ]
  },
  {
   "cell_type": "markdown",
   "id": "6093cf62",
   "metadata": {},
   "source": [
    "<div style=\"text-align: right\">\n",
    "قدم سوم\n",
    "</div>"
   ]
  },
  {
   "cell_type": "code",
   "execution_count": 20,
   "id": "a973b837",
   "metadata": {},
   "outputs": [],
   "source": [
    "def divide_rows_by_their_pivot_enties(matrix):\n",
    "    pass"
   ]
  },
  {
   "cell_type": "markdown",
   "id": "21f8d3ac",
   "metadata": {},
   "source": [
    "<div style=\"text-align: right\">\n",
    "قدم چهارم\n",
    "</div>"
   ]
  },
  {
   "cell_type": "code",
   "execution_count": 22,
   "id": "162884d4",
   "metadata": {},
   "outputs": [],
   "source": [
    "def subtract_scaled_pivot_row_from_rows_above(matrix, pivot_row, pivot_column):\n",
    "    pass"
   ]
  },
  {
   "cell_type": "markdown",
   "id": "ef923606",
   "metadata": {},
   "source": [
    "<div style=\"text-align: right\">\n",
    "تابع نهایی: این تابع ماتریس افزوده را میگیرد و به فرم نردبانی کاهش یافته در می آورد و خروجی را برمیگرداند\n",
    "</div>"
   ]
  },
  {
   "cell_type": "code",
   "execution_count": 26,
   "id": "16213513",
   "metadata": {},
   "outputs": [],
   "source": [
    "def reduced_echelon_form(augmented_matrix):\n",
    "    pass"
   ]
  },
  {
   "cell_type": "markdown",
   "id": "7c49f568",
   "metadata": {},
   "source": [
    "<div style=\"text-align: right\">\n",
    "تست تابع با ماتریس افزوده توصیف شده\n",
    "</div>"
   ]
  },
  {
   "cell_type": "code",
   "execution_count": 1,
   "id": "48b2edc2",
   "metadata": {},
   "outputs": [
    {
     "ename": "NameError",
     "evalue": "name 'np' is not defined",
     "output_type": "error",
     "traceback": [
      "\u001b[0;31m---------------------------------------------------------------------------\u001b[0m",
      "\u001b[0;31mNameError\u001b[0m                                 Traceback (most recent call last)",
      "\u001b[0;32m<ipython-input-1-9a37618ba82e>\u001b[0m in \u001b[0;36m<module>\u001b[0;34m\u001b[0m\n\u001b[0;32m----> 1\u001b[0;31m augmented_matrix = np.array([\n\u001b[0m\u001b[1;32m      2\u001b[0m     \u001b[0;34m[\u001b[0m\u001b[0;36m1\u001b[0m\u001b[0;34m,\u001b[0m \u001b[0;36m1\u001b[0m\u001b[0;34m,\u001b[0m \u001b[0;36m0\u001b[0m\u001b[0;34m,\u001b[0m \u001b[0;36m0\u001b[0m\u001b[0;34m,\u001b[0m \u001b[0;36m0\u001b[0m\u001b[0;34m,\u001b[0m \u001b[0;36m800\u001b[0m\u001b[0;34m]\u001b[0m\u001b[0;34m,\u001b[0m\u001b[0;34m\u001b[0m\u001b[0;34m\u001b[0m\u001b[0m\n\u001b[1;32m      3\u001b[0m     \u001b[0;34m[\u001b[0m\u001b[0;36m0\u001b[0m\u001b[0;34m,\u001b[0m \u001b[0;36m1\u001b[0m\u001b[0;34m,\u001b[0m \u001b[0;34m-\u001b[0m\u001b[0;36m1\u001b[0m\u001b[0;34m,\u001b[0m \u001b[0;36m1\u001b[0m\u001b[0;34m,\u001b[0m \u001b[0;36m0\u001b[0m\u001b[0;34m,\u001b[0m \u001b[0;36m300\u001b[0m\u001b[0;34m]\u001b[0m\u001b[0;34m,\u001b[0m\u001b[0;34m\u001b[0m\u001b[0;34m\u001b[0m\u001b[0m\n\u001b[1;32m      4\u001b[0m     \u001b[0;34m[\u001b[0m\u001b[0;36m0\u001b[0m\u001b[0;34m,\u001b[0m \u001b[0;36m0\u001b[0m\u001b[0;34m,\u001b[0m \u001b[0;36m0\u001b[0m\u001b[0;34m,\u001b[0m \u001b[0;36m1\u001b[0m\u001b[0;34m,\u001b[0m \u001b[0;36m1\u001b[0m\u001b[0;34m,\u001b[0m \u001b[0;36m500\u001b[0m\u001b[0;34m]\u001b[0m\u001b[0;34m,\u001b[0m\u001b[0;34m\u001b[0m\u001b[0;34m\u001b[0m\u001b[0m\n\u001b[1;32m      5\u001b[0m     \u001b[0;34m[\u001b[0m\u001b[0;36m1\u001b[0m\u001b[0;34m,\u001b[0m \u001b[0;36m0\u001b[0m\u001b[0;34m,\u001b[0m \u001b[0;36m0\u001b[0m\u001b[0;34m,\u001b[0m \u001b[0;36m0\u001b[0m\u001b[0;34m,\u001b[0m \u001b[0;36m1\u001b[0m\u001b[0;34m,\u001b[0m \u001b[0;36m600\u001b[0m\u001b[0;34m]\u001b[0m\u001b[0;34m\u001b[0m\u001b[0;34m\u001b[0m\u001b[0m\n",
      "\u001b[0;31mNameError\u001b[0m: name 'np' is not defined"
     ]
    }
   ],
   "source": [
    "augmented_matrix = np.array([\n",
    "    [1, 1, 0, 0, 0, 800],\n",
    "    [0, 1, -1, 1, 0, 300],\n",
    "    [0, 0, 0, 1, 1, 500],\n",
    "    [1, 0, 0, 0, 1, 600]\n",
    "])\n",
    "print(reduced_echelon_form(augmented_matrix))"
   ]
  },
  {
   "cell_type": "code",
   "execution_count": null,
   "id": "b6189272",
   "metadata": {},
   "outputs": [],
   "source": []
  },
  {
   "cell_type": "code",
   "execution_count": null,
   "id": "2e7ce6e7",
   "metadata": {},
   "outputs": [],
   "source": []
  },
  {
   "cell_type": "code",
   "execution_count": 2,
   "id": "7897d1be",
   "metadata": {},
   "outputs": [
    {
     "ename": "ModuleNotFoundError",
     "evalue": "No module named 'numpy'",
     "output_type": "error",
     "traceback": [
      "\u001b[0;31m---------------------------------------------------------------------------\u001b[0m",
      "\u001b[0;31mModuleNotFoundError\u001b[0m                       Traceback (most recent call last)",
      "\u001b[0;32m<ipython-input-2-fff737cca56e>\u001b[0m in \u001b[0;36m<module>\u001b[0;34m\u001b[0m\n\u001b[0;32m----> 1\u001b[0;31m \u001b[0;32mimport\u001b[0m \u001b[0mnumpy\u001b[0m \u001b[0;32mas\u001b[0m \u001b[0mnp\u001b[0m\u001b[0;34m\u001b[0m\u001b[0;34m\u001b[0m\u001b[0m\n\u001b[0m\u001b[1;32m      2\u001b[0m \u001b[0;34m\u001b[0m\u001b[0m\n\u001b[1;32m      3\u001b[0m \u001b[0;32mdef\u001b[0m \u001b[0mto_rref\u001b[0m\u001b[0;34m(\u001b[0m\u001b[0maugmented_matrix\u001b[0m\u001b[0;34m)\u001b[0m\u001b[0;34m:\u001b[0m\u001b[0;34m\u001b[0m\u001b[0;34m\u001b[0m\u001b[0m\n\u001b[1;32m      4\u001b[0m     \u001b[0mmatrix\u001b[0m \u001b[0;34m=\u001b[0m \u001b[0mnp\u001b[0m\u001b[0;34m.\u001b[0m\u001b[0marray\u001b[0m\u001b[0;34m(\u001b[0m\u001b[0maugmented_matrix\u001b[0m\u001b[0;34m,\u001b[0m \u001b[0mdtype\u001b[0m\u001b[0;34m=\u001b[0m\u001b[0mfloat\u001b[0m\u001b[0;34m)\u001b[0m\u001b[0;34m\u001b[0m\u001b[0;34m\u001b[0m\u001b[0m\n\u001b[1;32m      5\u001b[0m     \u001b[0mnum_rows\u001b[0m\u001b[0;34m,\u001b[0m \u001b[0mnum_cols\u001b[0m \u001b[0;34m=\u001b[0m \u001b[0mmatrix\u001b[0m\u001b[0;34m.\u001b[0m\u001b[0mshape\u001b[0m\u001b[0;34m\u001b[0m\u001b[0;34m\u001b[0m\u001b[0m\n",
      "\u001b[0;31mModuleNotFoundError\u001b[0m: No module named 'numpy'"
     ]
    }
   ],
   "source": []
  },
  {
   "cell_type": "code",
   "execution_count": null,
   "id": "080e8aeb",
   "metadata": {},
   "outputs": [],
   "source": []
  }
 ],
 "metadata": {
  "kernelspec": {
   "display_name": "Python 3 (ipykernel)",
   "language": "python",
   "name": "python3"
  },
  "language_info": {
   "codemirror_mode": {
    "name": "ipython",
    "version": 3
   },
   "file_extension": ".py",
   "mimetype": "text/x-python",
   "name": "python",
   "nbconvert_exporter": "python",
   "pygments_lexer": "ipython3",
   "version": "3.10.12"
  }
 },
 "nbformat": 4,
 "nbformat_minor": 5
}
